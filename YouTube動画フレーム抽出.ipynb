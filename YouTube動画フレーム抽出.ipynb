{
  "nbformat": 4,
  "nbformat_minor": 0,
  "metadata": {
    "colab": {
      "provenance": [],
      "gpuType": "T4",
      "authorship_tag": "ABX9TyMpSiGXBuXmlHn6IsmrsnO8",
      "include_colab_link": true
    },
    "kernelspec": {
      "name": "python3",
      "display_name": "Python 3"
    },
    "language_info": {
      "name": "python"
    },
    "accelerator": "GPU"
  },
  "cells": [
    {
      "cell_type": "markdown",
      "metadata": {
        "id": "view-in-github",
        "colab_type": "text"
      },
      "source": [
        "<a href=\"https://colab.research.google.com/github/mag381/mukonoso/blob/main/YouTube%E5%8B%95%E7%94%BB%E3%83%95%E3%83%AC%E3%83%BC%E3%83%A0%E6%8A%BD%E5%87%BA.ipynb\" target=\"_parent\"><img src=\"https://colab.research.google.com/assets/colab-badge.svg\" alt=\"Open In Colab\"/></a>"
      ]
    },
    {
      "cell_type": "markdown",
      "source": [
        "YouTube動画フレーム抽出ツール </p>\n",
        "https://qiita.com/ussu_ussu_ussu/items/ff4e7f98947eae84983e"
      ],
      "metadata": {
        "id": "njJsWVP_DYdp"
      }
    },
    {
      "cell_type": "code",
      "source": [
        "# @title セットアップ { display-mode: \"form\" }\n",
        "!pip install yt-dlp opencv-python-headless"
      ],
      "metadata": {
        "colab": {
          "base_uri": "https://localhost:8080/"
        },
        "id": "AOJ_EhtUDpqg",
        "outputId": "aa263546-1b63-4e83-ab4a-a9818ddad8ab"
      },
      "execution_count": 1,
      "outputs": [
        {
          "output_type": "stream",
          "name": "stdout",
          "text": [
            "Collecting yt-dlp\n",
            "  Downloading yt_dlp-2025.3.31-py3-none-any.whl.metadata (172 kB)\n",
            "\u001b[2K     \u001b[90m━━━━━━━━━━━━━━━━━━━━━━━━━━━━━━━━━━━━━━━\u001b[0m \u001b[32m172.2/172.2 kB\u001b[0m \u001b[31m3.3 MB/s\u001b[0m eta \u001b[36m0:00:00\u001b[0m\n",
            "\u001b[?25hRequirement already satisfied: opencv-python-headless in /usr/local/lib/python3.11/dist-packages (4.11.0.86)\n",
            "Requirement already satisfied: numpy>=1.21.2 in /usr/local/lib/python3.11/dist-packages (from opencv-python-headless) (2.0.2)\n",
            "Downloading yt_dlp-2025.3.31-py3-none-any.whl (3.2 MB)\n",
            "\u001b[2K   \u001b[90m━━━━━━━━━━━━━━━━━━━━━━━━━━━━━━━━━━━━━━━━\u001b[0m \u001b[32m3.2/3.2 MB\u001b[0m \u001b[31m47.8 MB/s\u001b[0m eta \u001b[36m0:00:00\u001b[0m\n",
            "\u001b[?25hInstalling collected packages: yt-dlp\n",
            "Successfully installed yt-dlp-2025.3.31\n"
          ]
        }
      ]
    },
    {
      "cell_type": "markdown",
      "source": [
        "--- 設定 ---"
      ],
      "metadata": {
        "id": "4X5j8SpeEnp5"
      }
    },
    {
      "cell_type": "code",
      "source": [
        "#動画のタイトルなど自由に\n",
        "youtube_url = \"https://youtu.be/.....",
        "output_image_path = \"output_frames.png\"\n",
        "temp_video_path = \"temp_video.mp4\"\n",
        "frame_interval = 300  # 何フレームごとに抽出するか (1秒あたり約30フレームなら、30で約1秒ごと)"
      ],
      "metadata": {
        "id": "mtppuKl_Dq0Z"
      },
      "execution_count": 2,
      "outputs": []
    },
    {
      "cell_type": "markdown",
      "source": [
        "必要なライブラリのインポート"
      ],
      "metadata": {
        "id": "IJwnH4l7EkYz"
      }
    },
    {
      "cell_type": "code",
      "source": [
        "import yt_dlp\n",
        "import cv2\n",
        "import numpy as np\n",
        "from PIL import Image\n",
        "import os"
      ],
      "metadata": {
        "id": "fEjJ7crrEeK7"
      },
      "execution_count": 3,
      "outputs": []
    },
    {
      "cell_type": "markdown",
      "source": [
        "YouTube動画のダウンロード"
      ],
      "metadata": {
        "id": "wm_t8yYZEz3Z"
      }
    },
    {
      "cell_type": "code",
      "source": [
        "# --- yt-dlp のオプション設定 ---\n",
        "ydl_opts = {\n",
        "    'format': 'bestvideo[ext=mp4]/best[ext=mp4]/best', # 音声なしでOK\n",
        "    'outtmpl': temp_video_path,\n",
        "    'noplaylist': True,\n",
        "}\n",
        "\n",
        "# --- YouTube動画のダウンロード ---\n",
        "try:\n",
        "    with yt_dlp.YoutubeDL(ydl_opts) as ydl:\n",
        "        ydl.download([youtube_url])\n",
        "except yt_dlp.utils.DownloadError as e:\n",
        "    print(f\"ダウンロードエラー: {e}\")\n",
        "    exit()"
      ],
      "metadata": {
        "colab": {
          "base_uri": "https://localhost:8080/"
        },
        "id": "eG-zmVQmE08C",
        "outputId": "288e6fe5-10fc-43a3-d674-1e69614e283b"
      },
      "execution_count": 4,
      "outputs": [
        {
          "output_type": "stream",
          "name": "stdout",
          "text": [
            "[youtube] Extracting URL: https://youtu.be/2PBLuquEjBc\n",
            "[youtube] 2PBLuquEjBc: Downloading webpage\n",
            "[youtube] 2PBLuquEjBc: Downloading tv client config\n",
            "[youtube] 2PBLuquEjBc: Downloading player 22f02d3d-main\n",
            "[youtube] 2PBLuquEjBc: Downloading tv player API JSON\n",
            "[youtube] 2PBLuquEjBc: Downloading ios player API JSON\n",
            "[youtube] 2PBLuquEjBc: Downloading m3u8 information\n",
            "[info] 2PBLuquEjBc: Downloading 1 format(s): 137\n",
            "[download] Destination: temp_video.mp4\n",
            "[download] 100% of   34.90MiB in 00:00:12 at 2.75MiB/s   \n"
          ]
        }
      ]
    },
    {
      "cell_type": "markdown",
      "source": [
        "フレーム抽出プロセス"
      ],
      "metadata": {
        "id": "GNcaMRxyE4tp"
      }
    },
    {
      "cell_type": "code",
      "source": [
        "# --- 動画の読み込み ---\n",
        "cap = cv2.VideoCapture(temp_video_path)\n",
        "if not cap.isOpened():\n",
        "    print(\"動画ファイルを開けませんでした\")\n",
        "    exit()\n",
        "\n",
        "# --- フレームの抽出と結合 ---\n",
        "frame_count = 0\n",
        "all_frames = []  # 抽出したフレームを一時的に保存するリスト\n",
        "while True:\n",
        "    ret, frame = cap.read()\n",
        "    if not ret:\n",
        "        break  # フレームがなくなったら終了\n",
        "    frame_count += 1\n",
        "    # 指定した間隔でフレームを抽出\n",
        "    if frame_count % frame_interval == 0:\n",
        "        all_frames.append(cv2.cvtColor(frame, cv2.COLOR_BGR2RGB)) # OpenCV -> PIL互換形式\n",
        "\n",
        "cap.release()\n",
        "os.remove(temp_video_path)  # 一時動画ファイルは削除"
      ],
      "metadata": {
        "id": "kN0RwVu3EgCZ"
      },
      "execution_count": 5,
      "outputs": []
    },
    {
      "cell_type": "markdown",
      "source": [
        "画像結合処理"
      ],
      "metadata": {
        "id": "89jjzjChE_Ia"
      }
    },
    {
      "cell_type": "code",
      "source": [
        "# --- 画像の結合 (横に並べる) ---\n",
        "if not all_frames:\n",
        "    print(\"フレームが抽出されませんでした\")\n",
        "    exit()\n",
        "\n",
        "# 最初のフレームから、サイズを取得\n",
        "frame_height = all_frames[0].shape[0]\n",
        "frame_width = all_frames[0].shape[1]\n",
        "\n",
        "# 全体の画像のサイズを計算\n",
        "total_width = frame_width * len(all_frames)\n",
        "total_height = frame_height\n",
        "\n",
        "# 新しい画像を作成\n",
        "final_image = Image.new(\"RGB\", (total_width, total_height))\n",
        "\n",
        "# 各フレームを貼り付け\n",
        "x_offset = 0\n",
        "for frame_array in all_frames:\n",
        "  frame_img = Image.fromarray(frame_array)\n",
        "  final_image.paste(frame_img, (x_offset, 0))\n",
        "  x_offset += frame_width\n",
        "\n",
        "# --- 画像の保存 ---\n",
        "final_image.save(output_image_path)\n",
        "print(f\"画像を {output_image_path} に保存しました。\")"
      ],
      "metadata": {
        "colab": {
          "base_uri": "https://localhost:8080/"
        },
        "id": "bBfun9_8FCqh",
        "outputId": "05776bfd-2e12-4dfa-be9e-da403cb5015d"
      },
      "execution_count": 6,
      "outputs": [
        {
          "output_type": "stream",
          "name": "stdout",
          "text": [
            "画像を output_frames.png に保存しました。\n"
          ]
        }
      ]
    },
    {
      "cell_type": "markdown",
      "source": [
        "画像のダウンロード（Colab専用機能）"
      ],
      "metadata": {
        "id": "txX_vbxhFHTS"
      }
    },
    {
      "cell_type": "code",
      "source": [
        "# --- ダウンロード (Colab用) ---\n",
        "# @markdown 生成された画像をダウンロードします。\n",
        "from google.colab import files\n",
        "files.download(output_image_path)"
      ],
      "metadata": {
        "colab": {
          "base_uri": "https://localhost:8080/",
          "height": 17
        },
        "id": "qq7fO4K0FKUK",
        "outputId": "122553fb-8d61-41a8-d38a-8be64684f175"
      },
      "execution_count": 7,
      "outputs": [
        {
          "output_type": "display_data",
          "data": {
            "text/plain": [
              "<IPython.core.display.Javascript object>"
            ],
            "application/javascript": [
              "\n",
              "    async function download(id, filename, size) {\n",
              "      if (!google.colab.kernel.accessAllowed) {\n",
              "        return;\n",
              "      }\n",
              "      const div = document.createElement('div');\n",
              "      const label = document.createElement('label');\n",
              "      label.textContent = `Downloading \"${filename}\": `;\n",
              "      div.appendChild(label);\n",
              "      const progress = document.createElement('progress');\n",
              "      progress.max = size;\n",
              "      div.appendChild(progress);\n",
              "      document.body.appendChild(div);\n",
              "\n",
              "      const buffers = [];\n",
              "      let downloaded = 0;\n",
              "\n",
              "      const channel = await google.colab.kernel.comms.open(id);\n",
              "      // Send a message to notify the kernel that we're ready.\n",
              "      channel.send({})\n",
              "\n",
              "      for await (const message of channel.messages) {\n",
              "        // Send a message to notify the kernel that we're ready.\n",
              "        channel.send({})\n",
              "        if (message.buffers) {\n",
              "          for (const buffer of message.buffers) {\n",
              "            buffers.push(buffer);\n",
              "            downloaded += buffer.byteLength;\n",
              "            progress.value = downloaded;\n",
              "          }\n",
              "        }\n",
              "      }\n",
              "      const blob = new Blob(buffers, {type: 'application/binary'});\n",
              "      const a = document.createElement('a');\n",
              "      a.href = window.URL.createObjectURL(blob);\n",
              "      a.download = filename;\n",
              "      div.appendChild(a);\n",
              "      a.click();\n",
              "      div.remove();\n",
              "    }\n",
              "  "
            ]
          },
          "metadata": {}
        },
        {
          "output_type": "display_data",
          "data": {
            "text/plain": [
              "<IPython.core.display.Javascript object>"
            ],
            "application/javascript": [
              "download(\"download_146b29f8-2175-44b9-a1ea-a8bd033ea887\", \"output_frames.png\", 16448574)"
            ]
          },
          "metadata": {}
        }
      ]
    }
  ]
}
